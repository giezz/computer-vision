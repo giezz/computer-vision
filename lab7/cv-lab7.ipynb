{
 "cells": [
  {
   "cell_type": "markdown",
   "metadata": {},
   "source": [
    "# Лабораторная работа 7. Детекция объектов с помощью сверточных нейронных сетей"
   ]
  },
  {
   "cell_type": "markdown",
   "metadata": {},
   "source": [
    "### Работу выполнил:<span style=\"color:blue\"> {ваше имя и фамилия}</span>"
   ]
  },
  {
   "cell_type": "markdown",
   "metadata": {},
   "source": [
    "### Сделанную лабораторную работу отправляйте через [ФОРМУ](https://vyatsu-my.sharepoint.com/:f:/g/personal/usr09019_vyatsu_ru/EqIJYrpQGKNAlYCYc9d54aUBmjBEhPTP3tn5ctj9Zfx5wA)"
   ]
  },
  {
   "cell_type": "markdown",
   "metadata": {},
   "source": [
    "## Задание 1.\n",
    "По [ссылке1](https://github.com/spmallick/learnopencv/tree/master/PyTorch-faster-RCNN) приведен пример детекции объектов сетью Faster R-CNN с использованием PyTorch.\n",
    "\n",
    "По [ссылке2](https://pytorch.org/hub/ultralytics_yolov5/) приведен пример детекции объектов сетью YOLOv5 с использованием PyTorch.\n",
    "\n",
    "Необходимо выполнить сравнение моделей детекции объектов Faster R-CNN ResNet-50 FPN, RetinaNet ResNet-50 FPN, YOLOv5 по следующим параметрам:\n",
    "1. время инференса на GPU;\n",
    "2. время инференса на CPU;\n",
    "3. размер модели.\n",
    "\n",
    "Результаты сравнения представить в виде диаграмм."
   ]
  },
  {
   "cell_type": "code",
   "execution_count": null,
   "metadata": {},
   "outputs": [],
   "source": [
    "# Ваш код!\n"
   ]
  },
  {
   "cell_type": "markdown",
   "metadata": {
    "id": "SrL47MttOLS3"
   },
   "source": [
    "## Задание 2.\n",
    "Выберите наиболее эффективную архетиктуру из рассмотренных в задании 1. Протестируйте данную архитектуру на задаче детекции птиц на фотографиях.\n",
    "Протестируйте эту модель на нескольких изображениях (определять нужно только птиц).\n",
    "Используйте данную модель для трекинга птиц на видео (в качестве детектора используйте нейросетевую модель, в качестве трекера - трекер MIL из OpenCV)."
   ]
  },
  {
   "cell_type": "code",
   "execution_count": 2,
   "metadata": {},
   "outputs": [],
   "source": [
    "# Ваш код!\n"
   ]
  }
 ],
 "metadata": {
  "accelerator": "GPU",
  "colab": {
   "collapsed_sections": [],
   "name": "image_classification_using_transfer_learning_in_pytorch.ipynb",
   "provenance": []
  },
  "interpreter": {
   "hash": "39dc1b0906487b45ba344ffeedd791fdcc86df127220ba63f0709de5586920fd"
  },
  "kernelspec": {
   "display_name": "Python 3.7.3 64-bit ('base': conda)",
   "name": "python3"
  },
  "language_info": {
   "codemirror_mode": {
    "name": "ipython",
    "version": 3
   },
   "file_extension": ".py",
   "mimetype": "text/x-python",
   "name": "python",
   "nbconvert_exporter": "python",
   "pygments_lexer": "ipython3",
   "version": "3.7.3"
  }
 },
 "nbformat": 4,
 "nbformat_minor": 1
}

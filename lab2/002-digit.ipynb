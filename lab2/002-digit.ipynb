{
 "cells": [
  {
   "cell_type": "markdown",
   "source": [
    "## Digit Recognizer\r\n",
    "https://www.kaggle.com/c/digit-recognizer"
   ],
   "metadata": {}
  },
  {
   "cell_type": "code",
   "source": [
    "%matplotlib inline\r\n",
    "import cv2\r\n",
    "import numpy as np\r\n",
    "import matplotlib.pyplot as plt"
   ],
   "metadata": {
    "collapsed": true
   },
   "outputs": [],
   "execution_count": null
  },
  {
   "cell_type": "markdown",
   "source": [
    "## Загружаем исходные данные"
   ],
   "metadata": {}
  },
  {
   "cell_type": "code",
   "source": [
    "train = np.loadtxt('./data/digit/train.csv', delimiter=',', skiprows=1)\r\n",
    "test = np.loadtxt('./data/digit/test.csv', delimiter=',', skiprows=1)"
   ],
   "metadata": {
    "collapsed": true
   },
   "outputs": [],
   "execution_count": null
  },
  {
   "cell_type": "code",
   "source": [
    "# сохраняем разметку в отдельную переменную\r\n",
    "train_label = train[:, 0]\r\n",
    "# приводим размерность к удобному для обаботки виду\r\n",
    "train_img = np.resize(train[:, 1:], (train.shape[0], 28, 28))\r\n",
    "test_img = np.resize(test, (test.shape[0], 28, 28))"
   ],
   "metadata": {
    "collapsed": true
   },
   "outputs": [],
   "execution_count": null
  },
  {
   "cell_type": "code",
   "source": [
    "train_img.shape"
   ],
   "metadata": {},
   "outputs": [],
   "execution_count": null
  },
  {
   "cell_type": "markdown",
   "source": [
    "## Визуализируем исходные данные"
   ],
   "metadata": {}
  },
  {
   "cell_type": "code",
   "source": [
    "fig = plt.figure(figsize=(20, 10))\r\n",
    "for i, img in enumerate(train_img[0:5], 1):\r\n",
    "    subplot = fig.add_subplot(1, 7, i)\r\n",
    "    plt.imshow(img, cmap='gray');\r\n",
    "    subplot.set_title('%s' % train_label[i - 1]);"
   ],
   "metadata": {},
   "outputs": [],
   "execution_count": null
  },
  {
   "cell_type": "markdown",
   "source": [
    "## Вычисляем X и Y составляющие градиента с помощью оператора Собеля"
   ],
   "metadata": {}
  },
  {
   "cell_type": "code",
   "source": [
    "train_sobel_x = np.zeros_like(train_img)\r\n",
    "train_sobel_y = np.zeros_like(train_img)\r\n",
    "for i in range(len(train_img)):\r\n",
    "    train_sobel_x[i] = cv2.Sobel(train_img[i], cv2.CV_64F, dx=1, dy=0, ksize=3)\r\n",
    "    train_sobel_y[i] = cv2.Sobel(train_img[i], cv2.CV_64F, dx=0, dy=1, ksize=3)"
   ],
   "metadata": {
    "collapsed": true
   },
   "outputs": [],
   "execution_count": null
  },
  {
   "cell_type": "code",
   "source": [
    "test_sobel_x = np.zeros_like(test_img)\r\n",
    "test_sobel_y = np.zeros_like(test_img)\r\n",
    "for i in range(len(test_img)):\r\n",
    "    test_sobel_x[i] = cv2.Sobel(test_img[i], cv2.CV_64F, dx=1, dy=0, ksize=3)\r\n",
    "    test_sobel_y[i] = cv2.Sobel(test_img[i], cv2.CV_64F, dx=0, dy=1, ksize=3)"
   ],
   "metadata": {
    "collapsed": true
   },
   "outputs": [],
   "execution_count": null
  },
  {
   "cell_type": "markdown",
   "source": [
    "## Вычисляем угол и длину вектора градиента"
   ],
   "metadata": {}
  },
  {
   "cell_type": "code",
   "source": [
    "train_g, train_theta = cv2.cartToPolar(train_sobel_x, train_sobel_y)"
   ],
   "metadata": {
    "collapsed": true
   },
   "outputs": [],
   "execution_count": null
  },
  {
   "cell_type": "code",
   "source": [
    "test_g, test_theta = cv2.cartToPolar(test_sobel_x, test_sobel_y)"
   ],
   "metadata": {
    "collapsed": true
   },
   "outputs": [],
   "execution_count": null
  },
  {
   "cell_type": "code",
   "source": [
    "fig = plt.figure(figsize=(20, 10))\r\n",
    "for i, img in enumerate(train_g[:5], 1):\r\n",
    "    subplot = fig.add_subplot(1, 7, i)\r\n",
    "    plt.imshow(img, cmap='gray');\r\n",
    "    subplot.set_title('%s' % train_label[i - 1]);\r\n",
    "    subplot = fig.add_subplot(3, 7, i)\r\n",
    "    plt.hist(train_theta[i - 1].flatten(),\r\n",
    "             bins=16, weights=train_g[i - 1].flatten())"
   ],
   "metadata": {},
   "outputs": [],
   "execution_count": null
  },
  {
   "cell_type": "markdown",
   "source": [
    "## Вычисляем гистограммы градиентов"
   ],
   "metadata": {}
  },
  {
   "cell_type": "code",
   "source": [
    "# Гистограммы вычисляются с учетом длины вектора градиента\r\n",
    "train_hist = np.zeros((len(train_img), 16))\r\n",
    "for i in range(len(train_img)):\r\n",
    "    hist, borders = np.histogram(train_theta[i],\r\n",
    "                                 bins=16,\r\n",
    "                                 range=(0., 2. * np.pi),\r\n",
    "                                 weights=train_g[i])\r\n",
    "    train_hist[i] = hist"
   ],
   "metadata": {
    "collapsed": true
   },
   "outputs": [],
   "execution_count": null
  },
  {
   "cell_type": "code",
   "source": [
    "test_hist = np.zeros((len(test_img), 16))\r\n",
    "for i in range(len(test_img)):\r\n",
    "    hist, borders = np.histogram(test_theta[i],\r\n",
    "                                 bins=16,\r\n",
    "                                 range=(0., 2. * np.pi),\r\n",
    "                                 weights=test_g[i])\r\n",
    "    test_hist[i] = hist"
   ],
   "metadata": {
    "collapsed": true
   },
   "outputs": [],
   "execution_count": null
  },
  {
   "cell_type": "markdown",
   "source": [
    "## Нормируем вектор гистограммы"
   ],
   "metadata": {}
  },
  {
   "cell_type": "code",
   "source": [
    "# По умолчанию используется L2 норма\r\n",
    "train_hist = train_hist / np.linalg.norm(train_hist, axis=1)[:, None]"
   ],
   "metadata": {
    "collapsed": true
   },
   "outputs": [],
   "execution_count": null
  },
  {
   "cell_type": "code",
   "source": [
    "test_hist = test_hist / np.linalg.norm(test_hist, axis=1)[:, None]"
   ],
   "metadata": {
    "collapsed": true
   },
   "outputs": [],
   "execution_count": null
  },
  {
   "cell_type": "markdown",
   "source": [
    "## Разбиваем выборку на обучение и валидацию"
   ],
   "metadata": {}
  },
  {
   "cell_type": "code",
   "source": [
    "from sklearn.model_selection import train_test_split\r\n",
    "y_train, y_val, x_train, x_val = train_test_split(\r\n",
    "    train_label, train_hist, test_size=0.2,\r\n",
    "    random_state=42)"
   ],
   "metadata": {
    "collapsed": true
   },
   "outputs": [],
   "execution_count": null
  },
  {
   "cell_type": "markdown",
   "source": [
    "## Вычисляем центроиды каждого из 10 классов"
   ],
   "metadata": {}
  },
  {
   "cell_type": "code",
   "source": [
    "centroids = np.zeros((10, train_hist.shape[1]), dtype=np.float32)"
   ],
   "metadata": {
    "collapsed": true
   },
   "outputs": [],
   "execution_count": null
  },
  {
   "cell_type": "code",
   "source": [
    "for i in range(10):\r\n",
    "    centroids[i] = np.mean(x_train[y_train == i], axis=0)"
   ],
   "metadata": {
    "collapsed": true
   },
   "outputs": [],
   "execution_count": null
  },
  {
   "cell_type": "markdown",
   "source": [
    "## Находим ближайший центройд для валидации"
   ],
   "metadata": {}
  },
  {
   "cell_type": "code",
   "source": [
    "pred_val = np.zeros_like(y_val)\r\n",
    "for i in range(len(y_val)):\r\n",
    "    distances = np.linalg.norm(centroids - x_val[i], axis=1)\r\n",
    "    pred_val[i] = np.argmin(distances)"
   ],
   "metadata": {
    "collapsed": true
   },
   "outputs": [],
   "execution_count": null
  },
  {
   "cell_type": "markdown",
   "source": [
    "## Оцениваем качество решение на валидационной выборке"
   ],
   "metadata": {}
  },
  {
   "cell_type": "code",
   "source": [
    "from sklearn.metrics import accuracy_score\r\n",
    "print('Accuracy: %s' % accuracy_score(y_val, pred_val))"
   ],
   "metadata": {},
   "outputs": [],
   "execution_count": null
  },
  {
   "cell_type": "code",
   "source": [
    "from sklearn.metrics import classification_report\r\n",
    "print(classification_report(y_val, pred_val))"
   ],
   "metadata": {},
   "outputs": [],
   "execution_count": null
  },
  {
   "cell_type": "code",
   "source": [
    "from sklearn.metrics import confusion_matrix\r\n",
    "print(confusion_matrix(y_val, pred_val))"
   ],
   "metadata": {},
   "outputs": [],
   "execution_count": null
  },
  {
   "cell_type": "markdown",
   "source": [
    "## Предсказания на тестовыйх данных"
   ],
   "metadata": {}
  },
  {
   "cell_type": "code",
   "source": [
    "pred_test = np.zeros(len(test_img), np.uint8)\r\n",
    "for i in range(len(test_img)):\r\n",
    "    distances = np.linalg.norm(centroids - test_hist[i], axis=1)\r\n",
    "    pred_test[i] = np.argmin(distances)"
   ],
   "metadata": {
    "collapsed": true
   },
   "outputs": [],
   "execution_count": null
  },
  {
   "cell_type": "markdown",
   "source": [
    "## Визуализируем предсказания"
   ],
   "metadata": {}
  },
  {
   "cell_type": "code",
   "source": [
    "fig = plt.figure(figsize=(20, 10))\r\n",
    "for i, img in enumerate(test_img[0:5], 1):\r\n",
    "    subplot = fig.add_subplot(1, 7, i)\r\n",
    "    plt.imshow(img, cmap='gray');\r\n",
    "    subplot.set_title('%s' % pred_test[i - 1]);"
   ],
   "metadata": {},
   "outputs": [],
   "execution_count": null
  },
  {
   "cell_type": "markdown",
   "source": [
    "## Готовим файл для отправки"
   ],
   "metadata": {}
  },
  {
   "cell_type": "code",
   "source": [
    "with open('submit.txt', 'w') as dst:\r\n",
    "    dst.write('ImageId,Label\\n')\r\n",
    "    for i, p in enumerate(pred_test, 1):\r\n",
    "        dst.write('%s,%s\\n' % (i, p))"
   ],
   "metadata": {
    "collapsed": true
   },
   "outputs": [],
   "execution_count": null
  },
  {
   "cell_type": "code",
   "source": [
    "!head submit.txt"
   ],
   "metadata": {},
   "outputs": [],
   "execution_count": null
  },
  {
   "cell_type": "code",
   "source": [
    "# Your submission scored 0.41700"
   ],
   "metadata": {
    "collapsed": true
   },
   "outputs": [],
   "execution_count": null
  }
 ],
 "metadata": {
  "kernelspec": {
   "name": "python3",
   "display_name": "Python 3.7.3 64-bit"
  },
  "language_info": {
   "codemirror_mode": {
    "name": "ipython",
    "version": 3
   },
   "file_extension": ".py",
   "mimetype": "text/x-python",
   "name": "python",
   "nbconvert_exporter": "python",
   "pygments_lexer": "ipython3",
   "version": "3.7.3"
  },
  "interpreter": {
   "hash": "39dc1b0906487b45ba344ffeedd791fdcc86df127220ba63f0709de5586920fd"
  }
 },
 "nbformat": 4,
 "nbformat_minor": 2
}

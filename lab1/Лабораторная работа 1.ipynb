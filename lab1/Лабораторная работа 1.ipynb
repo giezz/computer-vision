{
 "cells": [
  {
   "cell_type": "markdown",
   "metadata": {},
   "source": [
    "# Лабораторная работа 1\n",
    "# Базовая обработка изображений с помощью OpenCV"
   ]
  },
  {
   "cell_type": "markdown",
   "metadata": {},
   "source": [
    "### Работу выполнил:<span style=\"color:blue\"> {Фамилия Имя}</span>"
   ]
  },
  {
   "cell_type": "markdown",
   "metadata": {},
   "source": [
    "Задания посвящены знакомству с основой обработки изображений\n",
    "\n",
    "Для работы с фото будем использовать пакет `cv2`. Для его установки можно прописать `!pip install opencv-python`. [Документация по OpenCV](https://docs.opencv.org/4.x/d6/d00/tutorial_py_root.html) "
   ]
  },
  {
   "cell_type": "markdown",
   "metadata": {},
   "source": [
    "Познакомьтесь со статьями:\n",
    "<ul>\n",
    "<li><a href=\"https://arboook.com/kompyuternoe-zrenie/osnovnye-operatsii-s-izobrazheniyami-v-opencv-3-python/\">Основные операции с изображениями в OpenCV 3 Python</a></li>\n",
    "<li><a href=\"https://arboook.com/kompyuternoe-zrenie/operatsii-s-tsvetom-v-opencv3-i-python/\">Операции с цветом в OpenCV3 и Python</a></li>\n",
    "</ul>\n",
    "\n",
    "Выполните приведенные ниже задания."
   ]
  },
  {
   "cell_type": "markdown",
   "metadata": {},
   "source": [
    "### Сделанную лабораторную работу отправляйте через [ФОРМУ](https://vyatsu-my.sharepoint.com/:f:/g/personal/usr09019_vyatsu_ru/Ep8q6AurefNIlDOa12RT5YwBtwdfbgDDo0pXpRQjJI3wpQ)"
   ]
  },
  {
   "cell_type": "code",
   "execution_count": null,
   "metadata": {},
   "outputs": [],
   "source": [
    "# Загружаем необходимые библиотеки\n",
    "import cv2\n",
    "import numpy as np\n",
    "from matplotlib import pyplot as plt\n",
    "import numpy as np"
   ]
  },
  {
   "cell_type": "markdown",
   "metadata": {},
   "source": [
    "## Часть 1. Чтение, запись и отображение изображений"
   ]
  },
  {
   "cell_type": "markdown",
   "metadata": {},
   "source": [
    "**Задание 1.1.** Загрузите изображение input.jpg в переменную image с помощью метода cv2.imread. Отобразите изображение с помощью метода plt.imshow.  \n",
    "Если цвета отображаются некорретно, воспользутесь методом cv2.cvtColor с нужными параметрами.  \n",
    "Добавьте к окну с изображением заголовок."
   ]
  },
  {
   "cell_type": "code",
   "execution_count": null,
   "metadata": {},
   "outputs": [],
   "source": [
    "# Ваш код!"
   ]
  },
  {
   "cell_type": "markdown",
   "metadata": {},
   "source": [
    "**Задание 1.2.** Выведите размеры изображения."
   ]
  },
  {
   "cell_type": "code",
   "execution_count": null,
   "metadata": {},
   "outputs": [],
   "source": [
    "# Ваш код!"
   ]
  },
  {
   "cell_type": "markdown",
   "metadata": {},
   "source": [
    "**Задание 1.3.** В новую переменную gray_image сохраните изображение image, преобразованное в чёрно-белый формат. Отобразите изображение gray_image."
   ]
  },
  {
   "cell_type": "code",
   "execution_count": null,
   "metadata": {},
   "outputs": [],
   "source": [
    "# Ваш код!"
   ]
  },
  {
   "cell_type": "markdown",
   "metadata": {},
   "source": [
    "**Задание 1.4.** Сохраните изображение из переменной gray_image в новый файл output.jpg."
   ]
  },
  {
   "cell_type": "code",
   "execution_count": null,
   "metadata": {},
   "outputs": [],
   "source": [
    "# Ваш код!"
   ]
  },
  {
   "cell_type": "markdown",
   "metadata": {},
   "source": [
    "**Задание 1.5.** Отобразите изображение image по вертикали, горизонтали и по вертикали и горизонтали одновременно. Отобразите полученные три изображения и сохраните их на локальный диск."
   ]
  },
  {
   "cell_type": "code",
   "execution_count": null,
   "metadata": {},
   "outputs": [],
   "source": [
    "# Ваш код!"
   ]
  },
  {
   "cell_type": "markdown",
   "metadata": {},
   "source": [
    "**Задание 1.6.** Вырежите фрагмент изображения image и отобразите его. Сделайте поворот фрагмента и также отображите его."
   ]
  },
  {
   "cell_type": "code",
   "execution_count": null,
   "metadata": {},
   "outputs": [],
   "source": [
    "# Ваш код!"
   ]
  },
  {
   "cell_type": "markdown",
   "metadata": {},
   "source": [
    "## Часть 2. Цветовое пространство HSV"
   ]
  },
  {
   "cell_type": "markdown",
   "metadata": {},
   "source": [
    "**Задание 2.1.** Сохраните изображение input.jpg в переменную hsv_image, содержащую значения каналов HSV (*англ. Hue, Saturation, Value — тон, насыщенность, значение*)."
   ]
  },
  {
   "cell_type": "code",
   "execution_count": null,
   "metadata": {},
   "outputs": [],
   "source": [
    "# Ваш код!"
   ]
  },
  {
   "cell_type": "markdown",
   "metadata": {},
   "source": [
    "**Задание 2.2.** Отобразите исходное изображение и значения каналов HSV в виде отдельных черно-белых изображений. (*Подсказка: hsv_image[:, :, 0], hsv_image[:, :, 1], hsv_image[:, :, 2]*)  \n",
    "У Вас должен получиться результат, изображенный ниже."
   ]
  },
  {
   "cell_type": "code",
   "execution_count": null,
   "metadata": {},
   "outputs": [],
   "source": [
    "# Ваш код!"
   ]
  },
  {
   "cell_type": "markdown",
   "metadata": {},
   "source": [
    "![title](hsv.png)"
   ]
  },
  {
   "cell_type": "markdown",
   "metadata": {},
   "source": [
    "**Задание 2.3.** Сформируйте черно-белое изображение, в котором белым цветом отмечены синие пиксели исходного изображения.  \n",
    "Будем считать, что в цветовом пространстве HSV синий цвет расположен в диапазоне от np.array([100, 0, 0]) до np.array([130, 255, 255]).  \n",
    "Воспользуйтесь методом cv2.inRange.\n",
    "У Вас должен получиться результат, изображенный ниже."
   ]
  },
  {
   "cell_type": "code",
   "execution_count": 1,
   "metadata": {},
   "outputs": [],
   "source": [
    "# Ваш код!"
   ]
  },
  {
   "cell_type": "markdown",
   "metadata": {},
   "source": [
    "![title](blue_pixels.png)"
   ]
  },
  {
   "cell_type": "markdown",
   "metadata": {},
   "source": [
    "**Задание 2.4.** Увеличьте компоненту Saturation для каждого пикселя изображения на 50. Отобразите новое изображение.  \n",
    "Что изменилось в изображении?"
   ]
  },
  {
   "cell_type": "code",
   "execution_count": null,
   "metadata": {},
   "outputs": [],
   "source": [
    "# Ваш код!"
   ]
  },
  {
   "cell_type": "markdown",
   "metadata": {},
   "source": [
    "**Задание 2.5.** Увеличьте компоненту Value для каждого пикселя изображения на 50. Отобразите новое изображение.  \n",
    "Что изменилось в изображении?"
   ]
  },
  {
   "cell_type": "code",
   "execution_count": null,
   "metadata": {},
   "outputs": [],
   "source": [
    "# Ваш код!"
   ]
  },
  {
   "cell_type": "markdown",
   "metadata": {},
   "source": [
    "## Часть 3. Цветовое пространство RGB"
   ]
  },
  {
   "cell_type": "markdown",
   "metadata": {},
   "source": [
    "**Задание 3.1.** Используя метод cv2.split, получите значения каналов R, G, B исходного изображения. Отобразите значения этих каналов в виде отдельных черно-белых изображений.  \n",
    "У Вас должен получиться результат, изображенный ниже."
   ]
  },
  {
   "cell_type": "code",
   "execution_count": null,
   "metadata": {},
   "outputs": [],
   "source": [
    "# Ваш код!"
   ]
  },
  {
   "cell_type": "markdown",
   "metadata": {},
   "source": [
    "![title](rgb.png)"
   ]
  },
  {
   "cell_type": "markdown",
   "metadata": {},
   "source": [
    "**Задание 3.2.** Используя метод cv2.merge, объедините значения каналов в исходное изображение. Отобразите результат, чтобы убедиться в корректности.  \n",
    "Увеличьте значение синего канала (B+50) и отобразите изображение в этом случае.  \n",
    "У Вас должен получиться результат, изображенный ниже."
   ]
  },
  {
   "cell_type": "code",
   "execution_count": null,
   "metadata": {},
   "outputs": [],
   "source": [
    "# Ваш код!"
   ]
  },
  {
   "cell_type": "markdown",
   "metadata": {},
   "source": [
    "![title](merged.png)"
   ]
  },
  {
   "cell_type": "markdown",
   "metadata": {},
   "source": [
    "**Задание 3.3.** Попробуйте повторить задание 2.3, используя формат изображения RGB. Самостоятельно выберите диапазон синего цвета в формате RGB.  \n",
    "Сравните результат с результатом, полученным при использовании цветового представления HSV."
   ]
  },
  {
   "cell_type": "code",
   "execution_count": null,
   "metadata": {},
   "outputs": [],
   "source": [
    "# Ваш код!"
   ]
  },
  {
   "cell_type": "markdown",
   "metadata": {},
   "source": [
    "## Часть 4. Гистограммы"
   ]
  },
  {
   "cell_type": "markdown",
   "metadata": {},
   "source": [
    "**Задание 4.1.** Нарисуйте на одном графике гистограммы каналов RGB изображения. Для этого воспользуйтесь методом cv2.calcHist.  \n",
    "Пример использования этого метода:  \n",
    "histogram_blue = cv2.calcHist([image], [0], None, [256], [0, 256])  \n",
    "(здесь изображение image хранится в формате BGR, то есть нулевой канал - синий)  \n",
    "У Вас должен получиться результат, изображенный ниже."
   ]
  },
  {
   "cell_type": "code",
   "execution_count": null,
   "metadata": {},
   "outputs": [],
   "source": [
    "# Ваш код!"
   ]
  },
  {
   "cell_type": "markdown",
   "metadata": {},
   "source": [
    "![title](hist.png)"
   ]
  },
  {
   "cell_type": "markdown",
   "metadata": {},
   "source": [
    "**Задание 4.2.** Используйте image.ravel(), для того чтобы преобразовать трёхканальное изображение в одномерный массив. Постройте по этому массиву гистограмму, используя plt.hist. Сравните с результатом выше."
   ]
  },
  {
   "cell_type": "code",
   "execution_count": null,
   "metadata": {},
   "outputs": [],
   "source": [
    "# Ваш код!"
   ]
  },
  {
   "cell_type": "markdown",
   "metadata": {},
   "source": [
    "## Часть 5. Рисование фигур средствами OpenCV"
   ]
  },
  {
   "cell_type": "markdown",
   "metadata": {},
   "source": [
    "**Задание 5.1.** Используя подходящие методы OpenCV, нарисуйте приведенные ниже изображения (точное совпадение не обязательно).  \n"
   ]
  },
  {
   "cell_type": "code",
   "execution_count": null,
   "metadata": {},
   "outputs": [],
   "source": [
    "# Ваш код!"
   ]
  },
  {
   "cell_type": "markdown",
   "metadata": {},
   "source": [
    "![title](blue_line.png)"
   ]
  },
  {
   "cell_type": "markdown",
   "metadata": {},
   "source": [
    "![title](rectangle.png)"
   ]
  },
  {
   "cell_type": "markdown",
   "metadata": {},
   "source": [
    "![title](circle.png)"
   ]
  },
  {
   "cell_type": "markdown",
   "metadata": {},
   "source": [
    "![title](polygon.png)"
   ]
  },
  {
   "cell_type": "markdown",
   "metadata": {},
   "source": [
    "![title](I_love_Computer_vision.png)"
   ]
  }
 ],
 "metadata": {
  "kernelspec": {
   "display_name": "Python 3.9.12 64-bit ('Anaconda3')",
   "language": "python",
   "name": "python3"
  },
  "language_info": {
   "codemirror_mode": {
    "name": "ipython",
    "version": 3
   },
   "file_extension": ".py",
   "mimetype": "text/x-python",
   "name": "python",
   "nbconvert_exporter": "python",
   "pygments_lexer": "ipython3",
   "version": "3.9.12"
  },
  "vscode": {
   "interpreter": {
    "hash": "fbe4f397c45ed0f3080d11afa6ab83eba056cc651c4435d34eaa2d1b6700ad2b"
   }
  }
 },
 "nbformat": 4,
 "nbformat_minor": 2
}
